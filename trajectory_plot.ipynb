{
 "cells": [
  {
   "cell_type": "code",
   "execution_count": 480,
   "metadata": {},
   "outputs": [],
   "source": [
    "import tensorflow as tf\n",
    "from tensorflow.keras.layers import Dense, Dropout, Flatten\n",
    "from tensorflow.keras import Input\n",
    "from tensorflow.keras.optimizers import Adam\n",
    "import util as ut\n",
    "import numpy as np\n",
    "from shallowNet.shallowNet import shallowNet\n",
    "import matplotlib.pyplot as plt\n",
    "\n"
   ]
  },
  {
   "cell_type": "code",
   "execution_count": 638,
   "metadata": {},
   "outputs": [],
   "source": [
    "trainY = ut.generate_training_sat(32,40)[1]\n",
    "testY = ut.generate_training_sat(32,10)[1]"
   ]
  },
  {
   "cell_type": "code",
   "execution_count": 639,
   "metadata": {},
   "outputs": [],
   "source": [
    "buffor = 10\n",
    "epochs = 30\n",
    "X = []\n",
    "Y = np.ndarray((epochs, buffor))\n",
    "\n",
    "class trajectorySave(tf.keras.callbacks.Callback):\n",
    "\n",
    "    def __init__(self,):\n",
    "        super(trajectorySave, self).__init__()\n",
    "\n",
    "    def on_eboch_begin(self, epoch, logs = None):\n",
    "        print(epoch, \" epoch\")\n",
    "\n",
    "    def on_epoch_end(self, epoch,  logs = None):\n",
    "\n",
    "        print(\"on epoch end: \", epoch)\n",
    "        pred = self.model.predict(testY)\n",
    "        X.append(epoch)\n",
    "        if epoch==0:\n",
    "            for i in range(buffor):\n",
    "                Y[epoch][i] = 1 - tf.keras.losses.mean_squared_error(pred[i], testY[i]).numpy()\n",
    "        else:\n",
    "            for i in range(buffor):\n",
    "                err = 1 - tf.keras.losses.mean_squared_error(pred[i], testY[i]).numpy()\n",
    "                if Y[epoch-1][i] >= err :\n",
    "                    err = Y[epoch-1][i]\n",
    "                Y[epoch][i] = err\n",
    "\n"
   ]
  },
  {
   "cell_type": "code",
   "execution_count": 640,
   "metadata": {},
   "outputs": [
    {
     "output_type": "stream",
     "name": "stdout",
     "text": "Model: \"model_187\"\n_________________________________________________________________\nLayer (type)                 Output Shape              Param #   \n=================================================================\ninput_249 (InputLayer)       [(None, 32)]              0         \n_________________________________________________________________\ndropout_225 (Dropout)        (None, 32)                0         \n_________________________________________________________________\ndense_229 (Dense)            (None, 25)                825       \n_________________________________________________________________\ndense_transpose_165 (DenseTr (None, 32)                857       \n=================================================================\nTotal params: 857\nTrainable params: 857\nNon-trainable params: 0\n_________________________________________________________________\non epoch end:  0\non epoch end:  1\non epoch end:  2\non epoch end:  3\non epoch end:  4\non epoch end:  5\non epoch end:  6\non epoch end:  7\non epoch end:  8\non epoch end: 9\non epoch end:  10\non epoch end:  11\non epoch end:  12\non epoch end:  13\non epoch end:  14\non epoch end:  15\non epoch end:  16\non epoch end:  17\non epoch end:  18\non epoch end:  19\non epoch end:  20\non epoch end:  21\non epoch end:  22\non epoch end:  23\non epoch end:  24\non epoch end:  25\non epoch end:  26\non epoch end:  27\non epoch end:  28\non epoch end: 29\n"
    }
   ],
   "source": [
    "model = shallowNet.build()\n",
    "model.fit(trainY, trainY, epochs = epochs,verbose=0,\n",
    "batch_size = 1, callbacks = [trajectorySave()])\n",
    "\n",
    "plt.figure()\n",
    "\n",
    "for i in range(buffor):\n",
    "    plt.plot(X, Y[:,i])\n",
    "plt.xlabel(\"Epoch #\")\n",
    "plt.ylabel(\"1 - error\")\n",
    "plt.savefig(\"fitnesTrajectory.png\")\n"
   ]
  },
  {
   "cell_type": "code",
   "execution_count": null,
   "metadata": {},
   "outputs": [],
   "source": []
  }
 ],
 "metadata": {
  "language_info": {
   "codemirror_mode": {
    "name": "ipython",
    "version": 3
   },
   "file_extension": ".py",
   "mimetype": "text/x-python",
   "name": "python",
   "nbconvert_exporter": "python",
   "pygments_lexer": "ipython3",
   "version": "3.7.7-final"
  },
  "orig_nbformat": 2,
  "kernelspec": {
   "name": "python37764bitdea3ae2f75b54f458b389d46128237c9",
   "display_name": "Python 3.7.7 64-bit"
  }
 },
 "nbformat": 4,
 "nbformat_minor": 2
}