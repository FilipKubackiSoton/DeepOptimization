{
 "cells": [
  {
   "cell_type": "code",
   "execution_count": 1,
   "metadata": {},
   "outputs": [],
   "source": [
    "import tensorflow as tf"
   ]
  },
  {
   "cell_type": "code",
   "execution_count": 39,
   "metadata": {},
   "outputs": [],
   "source": [
    "import numpy as np \n",
    "import math \n",
    "import copy \n",
    "import matplotlib\n",
    "import matplotlib.pyplot as plt\n"
   ]
  },
  {
   "cell_type": "code",
   "execution_count": 5,
   "metadata": {},
   "outputs": [],
   "source": [
    "input_size = 32 \n",
    "latent_size = 16"
   ]
  },
  {
   "cell_type": "code",
   "execution_count": 6,
   "metadata": {},
   "outputs": [],
   "source": [
    "model = tf.keras.Sequential([\n",
    "            tf.keras.layers.Flatten(input_shape = (input_size, 1)),\n",
    "            tf.keras.layers.Dense(input_size),\n",
    "            tf.keras.layers.Dense(latent_size),\n",
    "            tf.keras.layers.Dense(input_size),\n",
    "            tf.keras.layers.Activation(\"sigmoid\")\n",
    "        ])"
   ]
  },
  {
   "cell_type": "code",
   "execution_count": 20,
   "metadata": {},
   "outputs": [],
   "source": [
    "\n",
    "def hiff_fitness(array):\n",
    "    \"\"\"\n",
    "    Calculate and return value related to h-iff \n",
    "    assignment to the binary string of array. \n",
    "    \"\"\"\n",
    "\n",
    "    def f(val):\n",
    "        if val == 1 or val == 0:\n",
    "            return 1\n",
    "        else:\n",
    "            return 0\n",
    "\n",
    "    def t(left, right):\n",
    "        if left == 1 and right == 1:\n",
    "            return 1\n",
    "        elif left == 0 and right == 0:\n",
    "            return 0\n",
    "        else:\n",
    "            return None \n",
    "\n",
    "    def val_recursive(array, flor, sum):\n",
    "        if flor > levels:\n",
    "            return sum\n",
    "        arr = []\n",
    "        power = 2 ** flor\n",
    "        for i in range(0,2**(levels - flor)-1,2):\n",
    "            arr.append(t(array[i], array[i+1]))\n",
    "            sum = sum + (f(array[i]) + f(array[i+1]))* power\n",
    "        return val_recursive(arr, flor + 1, sum)\n",
    "\n",
    "    size = len(array)\n",
    "    if not (size/2).is_integer():\n",
    "        raise ValueError(\"Array size must be power of 2.\")\n",
    "    levels = int(math.log2(size))\n",
    "    sum = 0\n",
    "    return val_recursive(array, 0,  sum)\n",
    "\n",
    "def generate_training_sat(N, set_size):\n",
    "    \"\"\"\n",
    "    Generate training set for H-IFF problem. \n",
    "    \n",
    "    return: binary array of size N to train NN\n",
    "    \"\"\"\n",
    "    input = np.ndarray(shape=(set_size, N))\n",
    "    output = np.ndarray(shape=(set_size, N))\n",
    "\n",
    "    if not (math.log2(N)).is_integer():\n",
    "            raise ValueError(\"Array size must be power of 2.\")\n",
    "    for k in range(set_size):\n",
    "        candidate_solution = np.random.randint(2, size = N)\n",
    "        input[k]=candidate_solution\n",
    "        solution_fitness = hiff_fitness(candidate_solution)\n",
    "        for i in range(10 * N):\n",
    "            index = np.random.randint(N)\n",
    "            new_candidate_sol = copy.copy(candidate_solution)\n",
    "            new_candidate_sol[index] = 1 - new_candidate_sol[index] # apply variation \n",
    "            new_fitness = hiff_fitness(new_candidate_sol) # check the change \n",
    "            if new_fitness >= solution_fitness : \n",
    "                candidate_solution = new_candidate_sol\n",
    "                solution_fitness = new_fitness\n",
    "        output[k]=candidate_solution\n",
    "\n",
    "    return input, output"
   ]
  },
  {
   "cell_type": "code",
   "execution_count": 26,
   "metadata": {},
   "outputs": [],
   "source": [
    "(trainX, trainY) = generate_training_sat(32, 1000)\n",
    "\n",
    "(testX, testY) = generate_training_sat(32, 100)\n",
    "opt = tf.keras.optimizers.Adam(lr=1e-3)\n",
    "\n",
    "EPOCHS = 25\n",
    "BS = 10"
   ]
  },
  {
   "cell_type": "code",
   "execution_count": 29,
   "metadata": {},
   "outputs": [
    {
     "output_type": "stream",
     "name": "stdout",
     "text": "Epoch 1/25\n100/100 [==============================] - 0s 2ms/step - loss: 0.2485 - val_loss: 0.2399\nEpoch 2/25\n100/100 [==============================] - 0s 1ms/step - loss: 0.2269 - val_loss: 0.2262\nEpoch 3/25\n100/100 [==============================] - 0s 1ms/step - loss: 0.2099 - val_loss: 0.2128\nEpoch 4/25\n100/100 [==============================] - 0s 1ms/step - loss: 0.1949 - val_loss: 0.2024\nEpoch 5/25\n100/100 [==============================] - 0s 1ms/step - loss: 0.1825 - val_loss: 0.1919\nEpoch 6/25\n100/100 [==============================] - 0s 1ms/step - loss: 0.1720 - val_loss: 0.1832\nEpoch 7/25\n100/100 [==============================] - 0s 1ms/step - loss: 0.1634 - val_loss: 0.1759\nEpoch 8/25\n100/100 [==============================] - 0s 1ms/step - loss: 0.1568 - val_loss: 0.1704\nEpoch 9/25\n100/100 [==============================] - 0s 1ms/step - loss: 0.1516 - val_loss: 0.1656\nEpoch 10/25\n100/100 [==============================] - 0s 1ms/step - loss: 0.1471 - val_loss: 0.1621\nEpoch 11/25\n100/100 [==============================] - 0s 1ms/step - loss: 0.1442 - val_loss: 0.1596\nEpoch 12/25\n100/100 [==============================] - 0s 1ms/step - loss: 0.1419 - val_loss: 0.1605\nEpoch 13/25\n100/100 [==============================] - 0s 1ms/step - loss: 0.1403 - val_loss: 0.1572\nEpoch 14/25\n100/100 [==============================] - 0s 1ms/step - loss: 0.1387 - val_loss: 0.1531\nEpoch 15/25\n100/100 [==============================] - 0s 1ms/step - loss: 0.1378 - val_loss: 0.1534\nEpoch 16/25\n100/100 [==============================] - 0s 1ms/step - loss: 0.1369 - val_loss: 0.1527\nEpoch 17/25\n100/100 [==============================] - 0s 1ms/step - loss: 0.1366 - val_loss: 0.1546\nEpoch 18/25\n100/100 [==============================] - 0s 1ms/step - loss: 0.1361 - val_loss: 0.1530\nEpoch 19/25\n100/100 [==============================] - 0s 1ms/step - loss: 0.1358 - val_loss: 0.1543\nEpoch 20/25\n100/100 [==============================] - 0s 1ms/step - loss: 0.1354 - val_loss: 0.1538\nEpoch 21/25\n100/100 [==============================] - 0s 1ms/step - loss: 0.1350 - val_loss: 0.1531\nEpoch 22/25\n100/100 [==============================] - 0s 1ms/step - loss: 0.1352 - val_loss: 0.1529\nEpoch 23/25\n100/100 [==============================] - 0s 1ms/step - loss: 0.1347 - val_loss: 0.1535\nEpoch 24/25\n100/100 [==============================] - 0s 1ms/step - loss: 0.1349 - val_loss: 0.1527\nEpoch 25/25\n100/100 [==============================] - 0s 1ms/step - loss: 0.1345 - val_loss: 0.1531\n"
    }
   ],
   "source": [
    "\n",
    "\n",
    "model.compile(loss=\"mse\", optimizer=opt)\n",
    "\n",
    "H = model.fit(\n",
    "    trainX, trainY,\n",
    "    validation_data = (testX, testY),\n",
    "    epochs = EPOCHS,\n",
    "    batch_size = BS\n",
    ")\n"
   ]
  },
  {
   "cell_type": "code",
   "execution_count": 40,
   "metadata": {},
   "outputs": [],
   "source": [
    "N = np.arange(0, EPOCHS)\n",
    "plt.style.use(\"ggplot\")\n",
    "plt.figure()\n",
    "plt.plot(N, H.history[\"loss\"], label=\"train_loss\")\n",
    "plt.plot(N, H.history[\"val_loss\"], label=\"val_loss\")\n",
    "plt.title(\"Training Loss and Accuracy\")\n",
    "plt.xlabel(\"Epoch #\")\n",
    "plt.ylabel(\"Loss/Accuracy\")\n",
    "plt.legend(loc=\"lower left\")\n",
    "plt.savefig(\"plot.png\")"
   ]
  },
  {
   "cell_type": "code",
   "execution_count": 49,
   "metadata": {},
   "outputs": [
    {
     "output_type": "stream",
     "name": "stdout",
     "text": "0.4940668\n[0 0 0 0 0 0 0 0 1 1 0 0 1 1 1 1 0 0 1 1 0 0 1 1 0 1 1 1 1 1 0 0]\n"
    }
   ],
   "source": [
    "tmp = model.predict(testX)[0]\n",
    "print(np.mean(tmp))\n",
    "tmp = (tmp > 0.5).astype(np.int_)\n",
    "print(tmp)"
   ]
  },
  {
   "cell_type": "code",
   "execution_count": null,
   "metadata": {},
   "outputs": [],
   "source": []
  }
 ],
 "metadata": {
  "language_info": {
   "codemirror_mode": {
    "name": "ipython",
    "version": 3
   },
   "file_extension": ".py",
   "mimetype": "text/x-python",
   "name": "python",
   "nbconvert_exporter": "python",
   "pygments_lexer": "ipython3",
   "version": "3.7.7-final"
  },
  "orig_nbformat": 2,
  "kernelspec": {
   "name": "python37764bitmyvenvconda4cf3f1c0391745b498b67a4f8f9a6c57",
   "display_name": "Python 3.7.7 64-bit ('myvenv': conda)"
  }
 },
 "nbformat": 4,
 "nbformat_minor": 2
}