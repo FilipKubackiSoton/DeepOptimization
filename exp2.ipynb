{
 "cells": [
  {
   "cell_type": "code",
   "execution_count": 27,
   "metadata": {},
   "outputs": [],
   "source": [
    "from utilsGeneral import UtilsGeneral\n",
    "from utilsModel import UtilsModel\n",
    "from utilsPlot import UtilsPlot\n",
    "from KnapSack import KnapSack\n",
    "from shallowNet.shallowNet import shallowNet, DenseTranspose\n",
    "import numpy as np\n",
    "import tensorflow as tf\n",
    "from tensorboard.plugins.hparams import api as hp\n",
    "import datetime\n"
   ]
  },
  {
   "cell_type": "code",
   "execution_count": 14,
   "metadata": {},
   "outputs": [
    {
     "output_type": "stream",
     "name": "stdout",
     "text": "Best Objective Value: 0\n"
    }
   ],
   "source": [
    "knapSack = KnapSack(\"100_5_25_1\")\n",
    "utg = UtilsGeneral(knapSack)\n",
    "utm = UtilsModel(utg)\n",
    "utp = UtilsPlot(utilsGeneral = utg, utilsModel = utm)\n",
    "fitness_function = knapSack.Fitness"
   ]
  },
  {
   "cell_type": "code",
   "execution_count": 15,
   "metadata": {},
   "outputs": [],
   "source": [
    "train = utg.generate_training_set(knapSack.Size, 100)\n",
    "test = utg.generate_training_set(knapSack.Size, 30)"
   ]
  },
  {
   "cell_type": "code",
   "execution_count": 10,
   "metadata": {},
   "outputs": [],
   "source": [
    "\n",
    "HP_DROPOUT = hp.HParam('dropout', hp.RealInterval(0.2, 0.4))\n",
    "HP_REG_COF = hp.HParam('reg_cof', hp.Discrete([0.002, 0.0002]))\n",
    "HP_COMPRESSION = hp.HParam('compression', hp.Discrete([0.8, 0.7,0.6]))\n",
    "\n",
    "METRIC_ACCURACY =\"val_root_mean_squared_error\"\n",
    "\n",
    "with tf.summary.create_file_writer('logs/hparam_tuning').as_default():\n",
    "  hp.hparams_config(\n",
    "    hparams=[HP_DROPOUT, HP_REG_COF],\n",
    "    metrics=[hp.Metric(METRIC_ACCURACY, display_name='Accuracy')],\n",
    "  )\n",
    "\n"
   ]
  },
  {
   "cell_type": "code",
   "execution_count": 28,
   "metadata": {},
   "outputs": [],
   "source": [
    "def train_test_model(hparams):\n",
    "    model = shallowNet.build(\n",
    "        input_shape= knapSack.Size,\n",
    "        compression=0.8,\n",
    "        reg_cof=hparams[HP_REG_COF],\n",
    "        dropout=hparams[HP_DROPOUT],\n",
    "    )\n",
    "    log_dir = \"logs/fit/\" + datetime.datetime.now().strftime(\"%Y%m%d-%H%M%S\")\n",
    "    tensorboard_callback = tf.keras.callbacks.TensorBoard(log_dir=log_dir, histogram_freq=1)\n",
    "\n",
    "    model.fit(train, train, epochs =1, callbacks = [tensorboard_callback])\n",
    "    loss = model.evaluate(test, test)\n",
    "    return loss\n",
    "\n",
    "    "
   ]
  },
  {
   "cell_type": "code",
   "execution_count": 29,
   "metadata": {},
   "outputs": [],
   "source": [
    "def run(run_dir, hparams):\n",
    "  with tf.summary.create_file_writer(run_dir).as_default():\n",
    "    hp.hparams(hparams)  # record the values used in this trial\n",
    "    accuracy = train_test_model(hparams)\n",
    "    tf.summary.scalar(METRIC_ACCURACY, accuracy, step=1)"
   ]
  },
  {
   "cell_type": "code",
   "execution_count": 30,
   "metadata": {},
   "outputs": [
    {
     "output_type": "stream",
     "name": "stdout",
     "text": "--- Starting trial: run-0\n{'dropout': 0.2, 'reg_cof': 0.0002}\nWARNING:tensorflow:Model failed to serialize as JSON. Ignoring... Layer DenseTranspose has arguments in `__init__` and therefore must override `get_config`.\n4/4 [==============================] - 0s 31ms/step - loss: 0.8909\n1/1 [==============================] - 0s 2ms/step - loss: 0.7433\n--- Starting trial: run-1\n{'dropout': 0.4, 'reg_cof': 0.0002}\nWARNING:tensorflow:Model failed to serialize as JSON. Ignoring... Layer DenseTranspose has arguments in `__init__` and therefore must override `get_config`.\n4/4 [==============================] - 0s 31ms/step - loss: 0.8710\n1/1 [==============================] - 0s 968us/step - loss: 0.7291\n--- Starting trial: run-2\n{'dropout': 0.2, 'reg_cof': 0.002}\nWARNING:tensorflow:Model failed to serialize as JSON. Ignoring... Layer DenseTranspose has arguments in `__init__` and therefore must override `get_config`.\n4/4 [==============================] - 0s 34ms/step - loss: 1.0161\n1/1 [==============================] - 0s 997us/step - loss: 0.9726\n--- Starting trial: run-3\n{'dropout': 0.4, 'reg_cof': 0.002}\nWARNING:tensorflow:Model failed to serialize as JSON. Ignoring... Layer DenseTranspose has arguments in `__init__` and therefore must override `get_config`.\n4/4 [==============================] - 0s 38ms/step - loss: 1.0168\n1/1 [==============================] - 0s 2ms/step - loss: 0.9899\n"
    }
   ],
   "source": [
    "session_num = 0\n",
    "\n",
    "for reg_cof in HP_REG_COF.domain.values:\n",
    "    for dropout_rate in (HP_DROPOUT.domain.min_value, HP_DROPOUT.domain.max_value):\n",
    "        hparams = {\n",
    "            HP_DROPOUT: dropout_rate,\n",
    "            HP_REG_COF: reg_cof,\n",
    "        }\n",
    "        run_name = \"run-%d\" % session_num\n",
    "        print('--- Starting trial: %s' % run_name)\n",
    "        print({h.name: hparams[h] for h in hparams})\n",
    "        run('logs/hparam_tuning/' + run_name, hparams)\n",
    "        session_num += 1"
   ]
  },
  {
   "cell_type": "code",
   "execution_count": 32,
   "metadata": {},
   "outputs": [
    {
     "output_type": "error",
     "ename": "AttributeError",
     "evalue": "module 'tensorflow' has no attribute 'Session'",
     "traceback": [
      "\u001b[1;31m---------------------------------------------------------------------------\u001b[0m",
      "\u001b[1;31mAttributeError\u001b[0m                            Traceback (most recent call last)",
      "\u001b[1;32m<ipython-input-32-07987150f13e>\u001b[0m in \u001b[0;36m<module>\u001b[1;34m\u001b[0m\n\u001b[1;32m----> 1\u001b[1;33m \u001b[1;32mwith\u001b[0m \u001b[0mtf\u001b[0m\u001b[1;33m.\u001b[0m\u001b[0mSession\u001b[0m\u001b[1;33m(\u001b[0m\u001b[1;33m)\u001b[0m \u001b[1;32mas\u001b[0m \u001b[0msess\u001b[0m\u001b[1;33m:\u001b[0m\u001b[1;33m\u001b[0m\u001b[1;33m\u001b[0m\u001b[0m\n\u001b[0m\u001b[0;32m      2\u001b[0m     \u001b[0mprint\u001b[0m\u001b[1;33m(\u001b[0m\u001b[0msess\u001b[0m\u001b[1;33m.\u001b[0m\u001b[0mrun\u001b[0m\u001b[1;33m(\u001b[0m\u001b[0mc\u001b[0m\u001b[1;33m)\u001b[0m\u001b[1;33m)\u001b[0m\u001b[1;33m\u001b[0m\u001b[1;33m\u001b[0m\u001b[0m\n",
      "\u001b[1;31mAttributeError\u001b[0m: module 'tensorflow' has no attribute 'Session'"
     ]
    }
   ],
   "source": [
    "with tf.Session() as sess:\n",
    "    print(sess.run(c))"
   ]
  },
  {
   "cell_type": "code",
   "execution_count": null,
   "metadata": {},
   "outputs": [],
   "source": []
  }
 ],
 "metadata": {
  "language_info": {
   "codemirror_mode": {
    "name": "ipython",
    "version": 3
   },
   "file_extension": ".py",
   "mimetype": "text/x-python",
   "name": "python",
   "nbconvert_exporter": "python",
   "pygments_lexer": "ipython3",
   "version": 3
  },
  "orig_nbformat": 2,
  "kernelspec": {
   "name": "python_defaultSpec_1595851023024",
   "display_name": "Python 3.7.7 64-bit ('myvenv': conda)"
  }
 },
 "nbformat": 4,
 "nbformat_minor": 2
}